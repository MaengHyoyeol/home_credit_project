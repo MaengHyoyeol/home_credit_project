{
 "cells": [
  {
   "cell_type": "code",
   "execution_count": 1,
   "metadata": {},
   "outputs": [],
   "source": [
    "train = pd.read_csv(\"./raw/application_train.csv\")"
   ]
  },
  {
   "cell_type": "code",
   "execution_count": 2,
   "metadata": {},
   "outputs": [],
   "source": [
    "credit_card_train = pd.read_csv(\"./raw/credit_card_balance.csv\")"
   ]
  },
  {
   "cell_type": "code",
   "execution_count": 3,
   "metadata": {},
   "outputs": [],
   "source": [
    "target = train.iloc[:, 0:2]"
   ]
  },
  {
   "cell_type": "code",
   "execution_count": 4,
   "metadata": {
    "scrolled": true
   },
   "outputs": [
    {
     "data": {
      "text/plain": [
       "307511"
      ]
     },
     "execution_count": 4,
     "metadata": {},
     "output_type": "execute_result"
    }
   ],
   "source": [
    "len(target)"
   ]
  },
  {
   "cell_type": "code",
   "execution_count": 5,
   "metadata": {},
   "outputs": [
    {
     "data": {
      "text/html": [
       "<div>\n",
       "<style scoped>\n",
       "    .dataframe tbody tr th:only-of-type {\n",
       "        vertical-align: middle;\n",
       "    }\n",
       "\n",
       "    .dataframe tbody tr th {\n",
       "        vertical-align: top;\n",
       "    }\n",
       "\n",
       "    .dataframe thead th {\n",
       "        text-align: right;\n",
       "    }\n",
       "</style>\n",
       "<table border=\"1\" class=\"dataframe\">\n",
       "  <thead>\n",
       "    <tr style=\"text-align: right;\">\n",
       "      <th></th>\n",
       "      <th>SK_ID_PREV</th>\n",
       "      <th>SK_ID_CURR</th>\n",
       "      <th>MONTHS_BALANCE</th>\n",
       "      <th>AMT_BALANCE</th>\n",
       "      <th>AMT_CREDIT_LIMIT_ACTUAL</th>\n",
       "      <th>AMT_DRAWINGS_ATM_CURRENT</th>\n",
       "      <th>AMT_DRAWINGS_CURRENT</th>\n",
       "      <th>AMT_DRAWINGS_OTHER_CURRENT</th>\n",
       "      <th>AMT_DRAWINGS_POS_CURRENT</th>\n",
       "      <th>AMT_INST_MIN_REGULARITY</th>\n",
       "      <th>AMT_PAYMENT_CURRENT</th>\n",
       "      <th>AMT_PAYMENT_TOTAL_CURRENT</th>\n",
       "      <th>AMT_RECEIVABLE_PRINCIPAL</th>\n",
       "      <th>AMT_RECIVABLE</th>\n",
       "      <th>AMT_TOTAL_RECEIVABLE</th>\n",
       "      <th>CNT_DRAWINGS_ATM_CURRENT</th>\n",
       "      <th>CNT_DRAWINGS_CURRENT</th>\n",
       "      <th>CNT_DRAWINGS_OTHER_CURRENT</th>\n",
       "      <th>CNT_DRAWINGS_POS_CURRENT</th>\n",
       "      <th>CNT_INSTALMENT_MATURE_CUM</th>\n",
       "      <th>NAME_CONTRACT_STATUS</th>\n",
       "      <th>SK_DPD</th>\n",
       "      <th>SK_DPD_DEF</th>\n",
       "    </tr>\n",
       "  </thead>\n",
       "  <tbody>\n",
       "    <tr>\n",
       "      <th>0</th>\n",
       "      <td>2562384</td>\n",
       "      <td>378907</td>\n",
       "      <td>-6</td>\n",
       "      <td>56.970</td>\n",
       "      <td>135000</td>\n",
       "      <td>0.0</td>\n",
       "      <td>877.5</td>\n",
       "      <td>0.0</td>\n",
       "      <td>877.5</td>\n",
       "      <td>1700.325</td>\n",
       "      <td>1800.0</td>\n",
       "      <td>1800.0</td>\n",
       "      <td>0.000</td>\n",
       "      <td>0.000</td>\n",
       "      <td>0.000</td>\n",
       "      <td>0.0</td>\n",
       "      <td>1</td>\n",
       "      <td>0.0</td>\n",
       "      <td>1.0</td>\n",
       "      <td>35.0</td>\n",
       "      <td>Active</td>\n",
       "      <td>0</td>\n",
       "      <td>0</td>\n",
       "    </tr>\n",
       "    <tr>\n",
       "      <th>1</th>\n",
       "      <td>2582071</td>\n",
       "      <td>363914</td>\n",
       "      <td>-1</td>\n",
       "      <td>63975.555</td>\n",
       "      <td>45000</td>\n",
       "      <td>2250.0</td>\n",
       "      <td>2250.0</td>\n",
       "      <td>0.0</td>\n",
       "      <td>0.0</td>\n",
       "      <td>2250.000</td>\n",
       "      <td>2250.0</td>\n",
       "      <td>2250.0</td>\n",
       "      <td>60175.080</td>\n",
       "      <td>64875.555</td>\n",
       "      <td>64875.555</td>\n",
       "      <td>1.0</td>\n",
       "      <td>1</td>\n",
       "      <td>0.0</td>\n",
       "      <td>0.0</td>\n",
       "      <td>69.0</td>\n",
       "      <td>Active</td>\n",
       "      <td>0</td>\n",
       "      <td>0</td>\n",
       "    </tr>\n",
       "    <tr>\n",
       "      <th>2</th>\n",
       "      <td>1740877</td>\n",
       "      <td>371185</td>\n",
       "      <td>-7</td>\n",
       "      <td>31815.225</td>\n",
       "      <td>450000</td>\n",
       "      <td>0.0</td>\n",
       "      <td>0.0</td>\n",
       "      <td>0.0</td>\n",
       "      <td>0.0</td>\n",
       "      <td>2250.000</td>\n",
       "      <td>2250.0</td>\n",
       "      <td>2250.0</td>\n",
       "      <td>26926.425</td>\n",
       "      <td>31460.085</td>\n",
       "      <td>31460.085</td>\n",
       "      <td>0.0</td>\n",
       "      <td>0</td>\n",
       "      <td>0.0</td>\n",
       "      <td>0.0</td>\n",
       "      <td>30.0</td>\n",
       "      <td>Active</td>\n",
       "      <td>0</td>\n",
       "      <td>0</td>\n",
       "    </tr>\n",
       "    <tr>\n",
       "      <th>3</th>\n",
       "      <td>1389973</td>\n",
       "      <td>337855</td>\n",
       "      <td>-4</td>\n",
       "      <td>236572.110</td>\n",
       "      <td>225000</td>\n",
       "      <td>2250.0</td>\n",
       "      <td>2250.0</td>\n",
       "      <td>0.0</td>\n",
       "      <td>0.0</td>\n",
       "      <td>11795.760</td>\n",
       "      <td>11925.0</td>\n",
       "      <td>11925.0</td>\n",
       "      <td>224949.285</td>\n",
       "      <td>233048.970</td>\n",
       "      <td>233048.970</td>\n",
       "      <td>1.0</td>\n",
       "      <td>1</td>\n",
       "      <td>0.0</td>\n",
       "      <td>0.0</td>\n",
       "      <td>10.0</td>\n",
       "      <td>Active</td>\n",
       "      <td>0</td>\n",
       "      <td>0</td>\n",
       "    </tr>\n",
       "    <tr>\n",
       "      <th>4</th>\n",
       "      <td>1891521</td>\n",
       "      <td>126868</td>\n",
       "      <td>-1</td>\n",
       "      <td>453919.455</td>\n",
       "      <td>450000</td>\n",
       "      <td>0.0</td>\n",
       "      <td>11547.0</td>\n",
       "      <td>0.0</td>\n",
       "      <td>11547.0</td>\n",
       "      <td>22924.890</td>\n",
       "      <td>27000.0</td>\n",
       "      <td>27000.0</td>\n",
       "      <td>443044.395</td>\n",
       "      <td>453919.455</td>\n",
       "      <td>453919.455</td>\n",
       "      <td>0.0</td>\n",
       "      <td>1</td>\n",
       "      <td>0.0</td>\n",
       "      <td>1.0</td>\n",
       "      <td>101.0</td>\n",
       "      <td>Active</td>\n",
       "      <td>0</td>\n",
       "      <td>0</td>\n",
       "    </tr>\n",
       "  </tbody>\n",
       "</table>\n",
       "</div>"
      ],
      "text/plain": [
       "   SK_ID_PREV  SK_ID_CURR  MONTHS_BALANCE  AMT_BALANCE  AMT_CREDIT_LIMIT_ACTUAL  AMT_DRAWINGS_ATM_CURRENT  AMT_DRAWINGS_CURRENT  AMT_DRAWINGS_OTHER_CURRENT  AMT_DRAWINGS_POS_CURRENT  AMT_INST_MIN_REGULARITY  AMT_PAYMENT_CURRENT  AMT_PAYMENT_TOTAL_CURRENT  AMT_RECEIVABLE_PRINCIPAL  AMT_RECIVABLE  AMT_TOTAL_RECEIVABLE  CNT_DRAWINGS_ATM_CURRENT  CNT_DRAWINGS_CURRENT  CNT_DRAWINGS_OTHER_CURRENT  CNT_DRAWINGS_POS_CURRENT  CNT_INSTALMENT_MATURE_CUM NAME_CONTRACT_STATUS  SK_DPD  SK_DPD_DEF\n",
       "0     2562384      378907              -6       56.970                   135000                       0.0                 877.5                         0.0                     877.5                 1700.325               1800.0                     1800.0                     0.000          0.000                 0.000                       0.0                     1                         0.0                       1.0                       35.0               Active       0           0\n",
       "1     2582071      363914              -1    63975.555                    45000                    2250.0                2250.0                         0.0                       0.0                 2250.000               2250.0                     2250.0                 60175.080      64875.555             64875.555                       1.0                     1                         0.0                       0.0                       69.0               Active       0           0\n",
       "2     1740877      371185              -7    31815.225                   450000                       0.0                   0.0                         0.0                       0.0                 2250.000               2250.0                     2250.0                 26926.425      31460.085             31460.085                       0.0                     0                         0.0                       0.0                       30.0               Active       0           0\n",
       "3     1389973      337855              -4   236572.110                   225000                    2250.0                2250.0                         0.0                       0.0                11795.760              11925.0                    11925.0                224949.285     233048.970            233048.970                       1.0                     1                         0.0                       0.0                       10.0               Active       0           0\n",
       "4     1891521      126868              -1   453919.455                   450000                       0.0               11547.0                         0.0                   11547.0                22924.890              27000.0                    27000.0                443044.395     453919.455            453919.455                       0.0                     1                         0.0                       1.0                      101.0               Active       0           0"
      ]
     },
     "execution_count": 5,
     "metadata": {},
     "output_type": "execute_result"
    }
   ],
   "source": [
    "credit_card_train.head()"
   ]
  },
  {
   "cell_type": "code",
   "execution_count": 6,
   "metadata": {},
   "outputs": [],
   "source": [
    "# credit_card에서 train만 골라내기\n",
    "credit_card_train = credit_card_train[credit_card_train.SK_ID_CURR.isin(train.SK_ID_CURR)]"
   ]
  },
  {
   "cell_type": "code",
   "execution_count": 7,
   "metadata": {},
   "outputs": [
    {
     "data": {
      "text/plain": [
       "86905"
      ]
     },
     "execution_count": 7,
     "metadata": {},
     "output_type": "execute_result"
    }
   ],
   "source": [
    "len(set(credit_card_train.SK_ID_CURR))"
   ]
  },
  {
   "cell_type": "code",
   "execution_count": 8,
   "metadata": {},
   "outputs": [],
   "source": [
    "# 각 DataFrame에 Target 값 넣기\n",
    "#credit_card = credit_card_train.merge(target, how = \"inner\", on=\"SK_ID_CURR\")\n",
    "#installments_payment = installments_payment_train.merge(target, how = \"inner\", on=\"SK_ID_CURR\")\n",
    "#credit_card = credit_card_train.merge(target, how = \"inner\", on=\"SK_ID_CURR\")"
   ]
  },
  {
   "cell_type": "code",
   "execution_count": 9,
   "metadata": {},
   "outputs": [],
   "source": [
    "#credit_card0 = credit_card[credit_card.TARGET == 0]\n",
    "#credit_card1 = credit_card[credit_card.TARGET == 1]"
   ]
  },
  {
   "cell_type": "code",
   "execution_count": 10,
   "metadata": {},
   "outputs": [
    {
     "name": "stdout",
     "output_type": "stream",
     "text": [
      "credit_card 원래 train수: 3227965, ID 수 : 86905\n"
     ]
    }
   ],
   "source": [
    "print(\"credit_card 원래 train수: {}, ID 수 : {}\".format(len(credit_card_train), len(set(credit_card_train.SK_ID_CURR))))\n",
    "#print(\"installments_payment 원래 train수: {}, ID 수 : {}\".format(len(installments_payment), len(set(installments_payment.SK_ID_CURR))))\n",
    "#print(\"credit_card 원래 train수: {}, ID 수 : {}\".format(len(credit_card_train), len(set(credit_card_train.SK_ID_CURR))))"
   ]
  },
  {
   "cell_type": "code",
   "execution_count": 11,
   "metadata": {},
   "outputs": [],
   "source": [
    "# credit_card_balance 파일\n",
    "credit_card_continuous = ['MONTHS_BALANCE', 'AMT_BALANCE', 'AMT_CREDIT_LIMIT_ACTUAL',\n",
    "                          'AMT_DRAWINGS_ATM_CURRENT', 'AMT_DRAWINGS_CURRENT',\n",
    "                          'AMT_DRAWINGS_OTHER_CURRENT', 'AMT_DRAWINGS_POS_CURRENT',\n",
    "                          'AMT_INST_MIN_REGULARITY', 'AMT_PAYMENT_CURRENT',\n",
    "                          'AMT_PAYMENT_TOTAL_CURRENT', 'AMT_RECEIVABLE_PRINCIPAL', 'AMT_RECIVABLE',\n",
    "                          'AMT_TOTAL_RECEIVABLE', 'SK_DPD', 'SK_DPD_DEF']\n",
    "credit_card_multi = ['NAME_CONTRACT_STATUS']\n",
    "confirm_needed = ['CNT_DRAWINGS_ATM_CURRENT', 'CNT_DRAWINGS_CURRENT', 'CNT_DRAWINGS_OTHER_CURRENT',\n",
    "                   'CNT_DRAWINGS_POS_CURRENT', 'CNT_INSTALMENT_MATURE_CUM']"
   ]
  },
  {
   "cell_type": "markdown",
   "metadata": {},
   "source": [
    "# 'XNA', 'XAP' 를 NaN처리, NaN값이 70%이상인 경우 변수제거"
   ]
  },
  {
   "cell_type": "code",
   "execution_count": 57,
   "metadata": {},
   "outputs": [],
   "source": [
    "credit_card = credit_card_train.replace(\"XNA\", np.NaN)\n",
    "credit_card = credit_card.replace(\"XAP\", np.NaN)\n",
    "credit_card = credit_card.replace(\"nan\", np.NaN)\n",
    "credit_card = credit_card.replace(\"NaN\", np.NaN)"
   ]
  },
  {
   "cell_type": "markdown",
   "metadata": {},
   "source": [
    "- train에 ID가 있는 데이터 중에서 nan값의 비율 구하기\n",
    "- AMT_DRAWINGS_ATM_CURRENT, AMT_DRAWINGS_OTHER_CURRENT, AMT_DRAWINGS_POS_CURRENT, CNT_DRAWINGS_ATM_CURRENT,  CNT_DRAWINGS_OTHER_CURRENT, CNT_DRAWINGS_POS_CURRENT은 nan값이 605754개로 동일"
   ]
  },
  {
   "cell_type": "code",
   "execution_count": 58,
   "metadata": {
    "scrolled": false
   },
   "outputs": [
    {
     "data": {
      "text/plain": [
       "SK_ID_PREV                         0\n",
       "SK_ID_CURR                         0\n",
       "MONTHS_BALANCE                     0\n",
       "AMT_BALANCE                        0\n",
       "AMT_CREDIT_LIMIT_ACTUAL            0\n",
       "AMT_DRAWINGS_ATM_CURRENT      605754\n",
       "AMT_DRAWINGS_CURRENT               0\n",
       "AMT_DRAWINGS_OTHER_CURRENT    605754\n",
       "AMT_DRAWINGS_POS_CURRENT      605754\n",
       "AMT_INST_MIN_REGULARITY       264384\n",
       "AMT_PAYMENT_CURRENT           620093\n",
       "AMT_PAYMENT_TOTAL_CURRENT          0\n",
       "AMT_RECEIVABLE_PRINCIPAL           0\n",
       "AMT_RECIVABLE                      0\n",
       "AMT_TOTAL_RECEIVABLE               0\n",
       "CNT_DRAWINGS_ATM_CURRENT      605754\n",
       "CNT_DRAWINGS_CURRENT               0\n",
       "CNT_DRAWINGS_OTHER_CURRENT    605754\n",
       "CNT_DRAWINGS_POS_CURRENT      605754\n",
       "CNT_INSTALMENT_MATURE_CUM     264384\n",
       "NAME_CONTRACT_STATUS               0\n",
       "SK_DPD                             0\n",
       "SK_DPD_DEF                         0\n",
       "dtype: int64"
      ]
     },
     "execution_count": 58,
     "metadata": {},
     "output_type": "execute_result"
    }
   ],
   "source": [
    "credit_card_train.isnull().sum()"
   ]
  },
  {
   "cell_type": "markdown",
   "metadata": {},
   "source": [
    "XNA, XAP를 nan으로 변환한 후 nan값의 비율"
   ]
  },
  {
   "cell_type": "code",
   "execution_count": 14,
   "metadata": {},
   "outputs": [
    {
     "name": "stdout",
     "output_type": "stream",
     "text": [
      "SK_ID_PREV\t0\t0.0\n",
      "SK_ID_CURR\t0\t0.0\n",
      "MONTHS_BALANCE\t0\t0.0\n",
      "AMT_BALANCE\t0\t0.0\n",
      "AMT_CREDIT_LIMIT_ACTUAL\t0\t0.0\n",
      "AMT_DRAWINGS_ATM_CURRENT\t605754\t18.77\n",
      "AMT_DRAWINGS_CURRENT\t0\t0.0\n",
      "AMT_DRAWINGS_OTHER_CURRENT\t605754\t18.77\n",
      "AMT_DRAWINGS_POS_CURRENT\t605754\t18.77\n",
      "AMT_INST_MIN_REGULARITY\t264384\t8.19\n",
      "AMT_PAYMENT_CURRENT\t620093\t19.21\n",
      "AMT_PAYMENT_TOTAL_CURRENT\t0\t0.0\n",
      "AMT_RECEIVABLE_PRINCIPAL\t0\t0.0\n",
      "AMT_RECIVABLE\t0\t0.0\n",
      "AMT_TOTAL_RECEIVABLE\t0\t0.0\n",
      "CNT_DRAWINGS_ATM_CURRENT\t605754\t18.77\n",
      "CNT_DRAWINGS_CURRENT\t0\t0.0\n",
      "CNT_DRAWINGS_OTHER_CURRENT\t605754\t18.77\n",
      "CNT_DRAWINGS_POS_CURRENT\t605754\t18.77\n",
      "CNT_INSTALMENT_MATURE_CUM\t264384\t8.19\n",
      "NAME_CONTRACT_STATUS\t0\t0.0\n",
      "SK_DPD\t0\t0.0\n",
      "SK_DPD_DEF\t0\t0.0\n"
     ]
    }
   ],
   "source": [
    "removed_var = []\n",
    "for var in credit_card.columns:\n",
    "    print(var, credit_card[var].isnull().sum(), round(credit_card[var].isnull().sum()/len(credit_card[var])*100, 2), sep=\"\\t\")\n",
    "    if round(credit_card[var].isnull().sum()/len(credit_card[var])*100) >= 30:\n",
    "             removed_var.append(var)"
   ]
  },
  {
   "cell_type": "code",
   "execution_count": 59,
   "metadata": {},
   "outputs": [
    {
     "name": "stdout",
     "output_type": "stream",
     "text": [
      "[] 0\n"
     ]
    }
   ],
   "source": [
    "print(removed_var, len(removed_var))"
   ]
  },
  {
   "cell_type": "code",
   "execution_count": 60,
   "metadata": {},
   "outputs": [],
   "source": [
    "for var in removed_var:\n",
    "    del credit_card[var]"
   ]
  },
  {
   "cell_type": "code",
   "execution_count": 61,
   "metadata": {},
   "outputs": [
    {
     "data": {
      "text/plain": [
       "23"
      ]
     },
     "execution_count": 61,
     "metadata": {},
     "output_type": "execute_result"
    }
   ],
   "source": [
    "len(credit_card_train.columns) - len(removed_var)"
   ]
  },
  {
   "cell_type": "code",
   "execution_count": 62,
   "metadata": {},
   "outputs": [
    {
     "data": {
      "text/plain": [
       "23"
      ]
     },
     "execution_count": 62,
     "metadata": {},
     "output_type": "execute_result"
    }
   ],
   "source": [
    "len(credit_card.columns)"
   ]
  },
  {
   "cell_type": "markdown",
   "metadata": {},
   "source": [
    "---"
   ]
  },
  {
   "cell_type": "markdown",
   "metadata": {},
   "source": [
    "# continuous 변수에서 NaN값 평균으로 채우기"
   ]
  },
  {
   "cell_type": "code",
   "execution_count": 63,
   "metadata": {},
   "outputs": [],
   "source": [
    "continuous = list(set(credit_card_continuous+confirm_needed) - set(removed_var))"
   ]
  },
  {
   "cell_type": "code",
   "execution_count": 64,
   "metadata": {},
   "outputs": [
    {
     "data": {
      "text/plain": [
       "['AMT_RECEIVABLE_PRINCIPAL',\n",
       " 'MONTHS_BALANCE',\n",
       " 'CNT_INSTALMENT_MATURE_CUM',\n",
       " 'AMT_DRAWINGS_ATM_CURRENT',\n",
       " 'AMT_PAYMENT_CURRENT',\n",
       " 'SK_DPD_DEF',\n",
       " 'AMT_PAYMENT_TOTAL_CURRENT',\n",
       " 'AMT_RECIVABLE',\n",
       " 'AMT_TOTAL_RECEIVABLE',\n",
       " 'AMT_BALANCE',\n",
       " 'AMT_DRAWINGS_OTHER_CURRENT',\n",
       " 'AMT_INST_MIN_REGULARITY',\n",
       " 'SK_DPD',\n",
       " 'AMT_DRAWINGS_POS_CURRENT',\n",
       " 'CNT_DRAWINGS_ATM_CURRENT',\n",
       " 'CNT_DRAWINGS_POS_CURRENT',\n",
       " 'AMT_DRAWINGS_CURRENT',\n",
       " 'AMT_CREDIT_LIMIT_ACTUAL',\n",
       " 'CNT_DRAWINGS_OTHER_CURRENT',\n",
       " 'CNT_DRAWINGS_CURRENT']"
      ]
     },
     "execution_count": 64,
     "metadata": {},
     "output_type": "execute_result"
    }
   ],
   "source": [
    "continuous"
   ]
  },
  {
   "cell_type": "code",
   "execution_count": 65,
   "metadata": {},
   "outputs": [],
   "source": [
    "for var in continuous:\n",
    "    credit_card[var] = credit_card[var].astype(\"float\")\n",
    "    credit_card[var].fillna(round(credit_card[var].mean(), 3), inplace=True)"
   ]
  },
  {
   "cell_type": "code",
   "execution_count": 40,
   "metadata": {},
   "outputs": [
    {
     "data": {
      "text/html": [
       "<div>\n",
       "<style scoped>\n",
       "    .dataframe tbody tr th:only-of-type {\n",
       "        vertical-align: middle;\n",
       "    }\n",
       "\n",
       "    .dataframe tbody tr th {\n",
       "        vertical-align: top;\n",
       "    }\n",
       "\n",
       "    .dataframe thead th {\n",
       "        text-align: right;\n",
       "    }\n",
       "</style>\n",
       "<table border=\"1\" class=\"dataframe\">\n",
       "  <thead>\n",
       "    <tr style=\"text-align: right;\">\n",
       "      <th></th>\n",
       "      <th>AMT_RECEIVABLE_PRINCIPAL</th>\n",
       "      <th>MONTHS_BALANCE</th>\n",
       "      <th>CNT_INSTALMENT_MATURE_CUM</th>\n",
       "      <th>AMT_DRAWINGS_ATM_CURRENT</th>\n",
       "      <th>AMT_PAYMENT_CURRENT</th>\n",
       "      <th>SK_DPD_DEF</th>\n",
       "      <th>AMT_PAYMENT_TOTAL_CURRENT</th>\n",
       "      <th>AMT_RECIVABLE</th>\n",
       "      <th>AMT_TOTAL_RECEIVABLE</th>\n",
       "      <th>AMT_BALANCE</th>\n",
       "      <th>AMT_DRAWINGS_OTHER_CURRENT</th>\n",
       "      <th>AMT_INST_MIN_REGULARITY</th>\n",
       "      <th>SK_DPD</th>\n",
       "      <th>AMT_DRAWINGS_POS_CURRENT</th>\n",
       "      <th>CNT_DRAWINGS_ATM_CURRENT</th>\n",
       "      <th>CNT_DRAWINGS_POS_CURRENT</th>\n",
       "      <th>AMT_DRAWINGS_CURRENT</th>\n",
       "      <th>AMT_CREDIT_LIMIT_ACTUAL</th>\n",
       "      <th>CNT_DRAWINGS_OTHER_CURRENT</th>\n",
       "      <th>CNT_DRAWINGS_CURRENT</th>\n",
       "    </tr>\n",
       "  </thead>\n",
       "  <tbody>\n",
       "    <tr>\n",
       "      <th>count</th>\n",
       "      <td>3.227965e+06</td>\n",
       "      <td>3.227965e+06</td>\n",
       "      <td>2.963581e+06</td>\n",
       "      <td>2.622211e+06</td>\n",
       "      <td>2.607872e+06</td>\n",
       "      <td>3.227965e+06</td>\n",
       "      <td>3.227965e+06</td>\n",
       "      <td>3.227965e+06</td>\n",
       "      <td>3.227965e+06</td>\n",
       "      <td>3.227965e+06</td>\n",
       "      <td>2.622211e+06</td>\n",
       "      <td>2.963581e+06</td>\n",
       "      <td>3.227965e+06</td>\n",
       "      <td>2.622211e+06</td>\n",
       "      <td>2.622211e+06</td>\n",
       "      <td>2.622211e+06</td>\n",
       "      <td>3.227965e+06</td>\n",
       "      <td>3.227965e+06</td>\n",
       "      <td>2.622211e+06</td>\n",
       "      <td>3.227965e+06</td>\n",
       "    </tr>\n",
       "    <tr>\n",
       "      <th>mean</th>\n",
       "      <td>5.670018e+04</td>\n",
       "      <td>-3.471544e+01</td>\n",
       "      <td>2.108883e+01</td>\n",
       "      <td>6.024272e+03</td>\n",
       "      <td>1.023861e+04</td>\n",
       "      <td>2.857060e-01</td>\n",
       "      <td>7.633469e+03</td>\n",
       "      <td>5.886264e+04</td>\n",
       "      <td>5.887259e+04</td>\n",
       "      <td>5.907332e+04</td>\n",
       "      <td>2.984882e+02</td>\n",
       "      <td>3.599681e+03</td>\n",
       "      <td>9.494803e+00</td>\n",
       "      <td>2.884152e+03</td>\n",
       "      <td>3.150212e-01</td>\n",
       "      <td>5.431047e-01</td>\n",
       "      <td>7.494084e+03</td>\n",
       "      <td>1.529536e+05</td>\n",
       "      <td>4.988538e-03</td>\n",
       "      <td>7.011439e-01</td>\n",
       "    </tr>\n",
       "    <tr>\n",
       "      <th>std</th>\n",
       "      <td>1.028242e+05</td>\n",
       "      <td>2.663609e+01</td>\n",
       "      <td>1.998730e+01</td>\n",
       "      <td>2.842116e+04</td>\n",
       "      <td>3.586433e+04</td>\n",
       "      <td>1.957034e+01</td>\n",
       "      <td>3.195403e+04</td>\n",
       "      <td>1.062747e+05</td>\n",
       "      <td>1.062813e+05</td>\n",
       "      <td>1.066137e+05</td>\n",
       "      <td>8.396193e+03</td>\n",
       "      <td>5.611742e+03</td>\n",
       "      <td>9.805148e+01</td>\n",
       "      <td>2.038833e+04</td>\n",
       "      <td>1.112726e+00</td>\n",
       "      <td>3.193040e+00</td>\n",
       "      <td>3.396743e+04</td>\n",
       "      <td>1.637092e+05</td>\n",
       "      <td>8.408493e-02</td>\n",
       "      <td>3.171833e+00</td>\n",
       "    </tr>\n",
       "    <tr>\n",
       "      <th>min</th>\n",
       "      <td>-4.233058e+05</td>\n",
       "      <td>-9.600000e+01</td>\n",
       "      <td>0.000000e+00</td>\n",
       "      <td>-6.827310e+03</td>\n",
       "      <td>0.000000e+00</td>\n",
       "      <td>0.000000e+00</td>\n",
       "      <td>0.000000e+00</td>\n",
       "      <td>-4.202502e+05</td>\n",
       "      <td>-4.202502e+05</td>\n",
       "      <td>-4.202502e+05</td>\n",
       "      <td>0.000000e+00</td>\n",
       "      <td>0.000000e+00</td>\n",
       "      <td>0.000000e+00</td>\n",
       "      <td>0.000000e+00</td>\n",
       "      <td>0.000000e+00</td>\n",
       "      <td>0.000000e+00</td>\n",
       "      <td>-6.211620e+03</td>\n",
       "      <td>0.000000e+00</td>\n",
       "      <td>0.000000e+00</td>\n",
       "      <td>0.000000e+00</td>\n",
       "    </tr>\n",
       "    <tr>\n",
       "      <th>25%</th>\n",
       "      <td>0.000000e+00</td>\n",
       "      <td>-5.600000e+01</td>\n",
       "      <td>5.000000e+00</td>\n",
       "      <td>0.000000e+00</td>\n",
       "      <td>1.557000e+02</td>\n",
       "      <td>0.000000e+00</td>\n",
       "      <td>0.000000e+00</td>\n",
       "      <td>0.000000e+00</td>\n",
       "      <td>0.000000e+00</td>\n",
       "      <td>0.000000e+00</td>\n",
       "      <td>0.000000e+00</td>\n",
       "      <td>0.000000e+00</td>\n",
       "      <td>0.000000e+00</td>\n",
       "      <td>0.000000e+00</td>\n",
       "      <td>0.000000e+00</td>\n",
       "      <td>0.000000e+00</td>\n",
       "      <td>0.000000e+00</td>\n",
       "      <td>4.500000e+04</td>\n",
       "      <td>0.000000e+00</td>\n",
       "      <td>0.000000e+00</td>\n",
       "    </tr>\n",
       "    <tr>\n",
       "      <th>50%</th>\n",
       "      <td>0.000000e+00</td>\n",
       "      <td>-2.800000e+01</td>\n",
       "      <td>1.600000e+01</td>\n",
       "      <td>0.000000e+00</td>\n",
       "      <td>2.923020e+03</td>\n",
       "      <td>0.000000e+00</td>\n",
       "      <td>0.000000e+00</td>\n",
       "      <td>0.000000e+00</td>\n",
       "      <td>0.000000e+00</td>\n",
       "      <td>0.000000e+00</td>\n",
       "      <td>0.000000e+00</td>\n",
       "      <td>0.000000e+00</td>\n",
       "      <td>0.000000e+00</td>\n",
       "      <td>0.000000e+00</td>\n",
       "      <td>0.000000e+00</td>\n",
       "      <td>0.000000e+00</td>\n",
       "      <td>0.000000e+00</td>\n",
       "      <td>1.125000e+05</td>\n",
       "      <td>0.000000e+00</td>\n",
       "      <td>0.000000e+00</td>\n",
       "    </tr>\n",
       "    <tr>\n",
       "      <th>75%</th>\n",
       "      <td>8.664215e+04</td>\n",
       "      <td>-1.100000e+01</td>\n",
       "      <td>3.300000e+01</td>\n",
       "      <td>0.000000e+00</td>\n",
       "      <td>9.000000e+03</td>\n",
       "      <td>0.000000e+00</td>\n",
       "      <td>6.750000e+03</td>\n",
       "      <td>9.020840e+04</td>\n",
       "      <td>9.022635e+04</td>\n",
       "      <td>9.040554e+04</td>\n",
       "      <td>0.000000e+00</td>\n",
       "      <td>6.750000e+03</td>\n",
       "      <td>0.000000e+00</td>\n",
       "      <td>0.000000e+00</td>\n",
       "      <td>0.000000e+00</td>\n",
       "      <td>0.000000e+00</td>\n",
       "      <td>0.000000e+00</td>\n",
       "      <td>1.800000e+05</td>\n",
       "      <td>0.000000e+00</td>\n",
       "      <td>0.000000e+00</td>\n",
       "    </tr>\n",
       "    <tr>\n",
       "      <th>max</th>\n",
       "      <td>1.354829e+06</td>\n",
       "      <td>-1.000000e+00</td>\n",
       "      <td>1.200000e+02</td>\n",
       "      <td>2.115000e+06</td>\n",
       "      <td>4.289207e+06</td>\n",
       "      <td>2.800000e+03</td>\n",
       "      <td>4.278316e+06</td>\n",
       "      <td>1.354829e+06</td>\n",
       "      <td>1.354829e+06</td>\n",
       "      <td>1.354829e+06</td>\n",
       "      <td>1.529847e+06</td>\n",
       "      <td>2.028820e+05</td>\n",
       "      <td>2.831000e+03</td>\n",
       "      <td>2.060030e+06</td>\n",
       "      <td>5.100000e+01</td>\n",
       "      <td>1.650000e+02</td>\n",
       "      <td>2.115000e+06</td>\n",
       "      <td>1.350000e+06</td>\n",
       "      <td>1.200000e+01</td>\n",
       "      <td>1.650000e+02</td>\n",
       "    </tr>\n",
       "  </tbody>\n",
       "</table>\n",
       "</div>"
      ],
      "text/plain": [
       "       AMT_RECEIVABLE_PRINCIPAL  MONTHS_BALANCE  CNT_INSTALMENT_MATURE_CUM  AMT_DRAWINGS_ATM_CURRENT  AMT_PAYMENT_CURRENT    SK_DPD_DEF  AMT_PAYMENT_TOTAL_CURRENT  AMT_RECIVABLE  AMT_TOTAL_RECEIVABLE   AMT_BALANCE  AMT_DRAWINGS_OTHER_CURRENT  AMT_INST_MIN_REGULARITY        SK_DPD  AMT_DRAWINGS_POS_CURRENT  CNT_DRAWINGS_ATM_CURRENT  CNT_DRAWINGS_POS_CURRENT  AMT_DRAWINGS_CURRENT  AMT_CREDIT_LIMIT_ACTUAL  CNT_DRAWINGS_OTHER_CURRENT  CNT_DRAWINGS_CURRENT\n",
       "count              3.227965e+06    3.227965e+06               2.963581e+06              2.622211e+06         2.607872e+06  3.227965e+06               3.227965e+06   3.227965e+06          3.227965e+06  3.227965e+06                2.622211e+06             2.963581e+06  3.227965e+06              2.622211e+06              2.622211e+06              2.622211e+06          3.227965e+06             3.227965e+06                2.622211e+06          3.227965e+06\n",
       "mean               5.670018e+04   -3.471544e+01               2.108883e+01              6.024272e+03         1.023861e+04  2.857060e-01               7.633469e+03   5.886264e+04          5.887259e+04  5.907332e+04                2.984882e+02             3.599681e+03  9.494803e+00              2.884152e+03              3.150212e-01              5.431047e-01          7.494084e+03             1.529536e+05                4.988538e-03          7.011439e-01\n",
       "std                1.028242e+05    2.663609e+01               1.998730e+01              2.842116e+04         3.586433e+04  1.957034e+01               3.195403e+04   1.062747e+05          1.062813e+05  1.066137e+05                8.396193e+03             5.611742e+03  9.805148e+01              2.038833e+04              1.112726e+00              3.193040e+00          3.396743e+04             1.637092e+05                8.408493e-02          3.171833e+00\n",
       "min               -4.233058e+05   -9.600000e+01               0.000000e+00             -6.827310e+03         0.000000e+00  0.000000e+00               0.000000e+00  -4.202502e+05         -4.202502e+05 -4.202502e+05                0.000000e+00             0.000000e+00  0.000000e+00              0.000000e+00              0.000000e+00              0.000000e+00         -6.211620e+03             0.000000e+00                0.000000e+00          0.000000e+00\n",
       "25%                0.000000e+00   -5.600000e+01               5.000000e+00              0.000000e+00         1.557000e+02  0.000000e+00               0.000000e+00   0.000000e+00          0.000000e+00  0.000000e+00                0.000000e+00             0.000000e+00  0.000000e+00              0.000000e+00              0.000000e+00              0.000000e+00          0.000000e+00             4.500000e+04                0.000000e+00          0.000000e+00\n",
       "50%                0.000000e+00   -2.800000e+01               1.600000e+01              0.000000e+00         2.923020e+03  0.000000e+00               0.000000e+00   0.000000e+00          0.000000e+00  0.000000e+00                0.000000e+00             0.000000e+00  0.000000e+00              0.000000e+00              0.000000e+00              0.000000e+00          0.000000e+00             1.125000e+05                0.000000e+00          0.000000e+00\n",
       "75%                8.664215e+04   -1.100000e+01               3.300000e+01              0.000000e+00         9.000000e+03  0.000000e+00               6.750000e+03   9.020840e+04          9.022635e+04  9.040554e+04                0.000000e+00             6.750000e+03  0.000000e+00              0.000000e+00              0.000000e+00              0.000000e+00          0.000000e+00             1.800000e+05                0.000000e+00          0.000000e+00\n",
       "max                1.354829e+06   -1.000000e+00               1.200000e+02              2.115000e+06         4.289207e+06  2.800000e+03               4.278316e+06   1.354829e+06          1.354829e+06  1.354829e+06                1.529847e+06             2.028820e+05  2.831000e+03              2.060030e+06              5.100000e+01              1.650000e+02          2.115000e+06             1.350000e+06                1.200000e+01          1.650000e+02"
      ]
     },
     "execution_count": 40,
     "metadata": {},
     "output_type": "execute_result"
    }
   ],
   "source": [
    "# 원래 값과 비교\n",
    "credit_card_train[continuous].describe()"
   ]
  },
  {
   "cell_type": "code",
   "execution_count": 23,
   "metadata": {},
   "outputs": [
    {
     "data": {
      "text/html": [
       "<div>\n",
       "<style scoped>\n",
       "    .dataframe tbody tr th:only-of-type {\n",
       "        vertical-align: middle;\n",
       "    }\n",
       "\n",
       "    .dataframe tbody tr th {\n",
       "        vertical-align: top;\n",
       "    }\n",
       "\n",
       "    .dataframe thead th {\n",
       "        text-align: right;\n",
       "    }\n",
       "</style>\n",
       "<table border=\"1\" class=\"dataframe\">\n",
       "  <thead>\n",
       "    <tr style=\"text-align: right;\">\n",
       "      <th></th>\n",
       "      <th>AMT_RECEIVABLE_PRINCIPAL</th>\n",
       "      <th>MONTHS_BALANCE</th>\n",
       "      <th>CNT_INSTALMENT_MATURE_CUM</th>\n",
       "      <th>AMT_DRAWINGS_ATM_CURRENT</th>\n",
       "      <th>AMT_PAYMENT_CURRENT</th>\n",
       "      <th>SK_DPD_DEF</th>\n",
       "      <th>AMT_PAYMENT_TOTAL_CURRENT</th>\n",
       "      <th>AMT_RECIVABLE</th>\n",
       "      <th>AMT_TOTAL_RECEIVABLE</th>\n",
       "      <th>AMT_BALANCE</th>\n",
       "      <th>AMT_DRAWINGS_OTHER_CURRENT</th>\n",
       "      <th>AMT_INST_MIN_REGULARITY</th>\n",
       "      <th>SK_DPD</th>\n",
       "      <th>AMT_DRAWINGS_POS_CURRENT</th>\n",
       "      <th>CNT_DRAWINGS_ATM_CURRENT</th>\n",
       "      <th>CNT_DRAWINGS_POS_CURRENT</th>\n",
       "      <th>AMT_DRAWINGS_CURRENT</th>\n",
       "      <th>AMT_CREDIT_LIMIT_ACTUAL</th>\n",
       "      <th>CNT_DRAWINGS_OTHER_CURRENT</th>\n",
       "      <th>CNT_DRAWINGS_CURRENT</th>\n",
       "    </tr>\n",
       "  </thead>\n",
       "  <tbody>\n",
       "    <tr>\n",
       "      <th>count</th>\n",
       "      <td>3.227965e+06</td>\n",
       "      <td>3.227965e+06</td>\n",
       "      <td>3.227965e+06</td>\n",
       "      <td>3.227965e+06</td>\n",
       "      <td>3.227965e+06</td>\n",
       "      <td>3.227965e+06</td>\n",
       "      <td>3.227965e+06</td>\n",
       "      <td>3.227965e+06</td>\n",
       "      <td>3.227965e+06</td>\n",
       "      <td>3.227965e+06</td>\n",
       "      <td>3.227965e+06</td>\n",
       "      <td>3.227965e+06</td>\n",
       "      <td>3.227965e+06</td>\n",
       "      <td>3.227965e+06</td>\n",
       "      <td>3.227965e+06</td>\n",
       "      <td>3.227965e+06</td>\n",
       "      <td>3.227965e+06</td>\n",
       "      <td>3.227965e+06</td>\n",
       "      <td>3.227965e+06</td>\n",
       "      <td>3.227965e+06</td>\n",
       "    </tr>\n",
       "    <tr>\n",
       "      <th>mean</th>\n",
       "      <td>5.670018e+04</td>\n",
       "      <td>-3.471544e+01</td>\n",
       "      <td>2.108883e+01</td>\n",
       "      <td>6.024272e+03</td>\n",
       "      <td>1.023861e+04</td>\n",
       "      <td>2.857060e-01</td>\n",
       "      <td>7.633469e+03</td>\n",
       "      <td>5.886264e+04</td>\n",
       "      <td>5.887259e+04</td>\n",
       "      <td>5.907332e+04</td>\n",
       "      <td>2.984882e+02</td>\n",
       "      <td>3.599681e+03</td>\n",
       "      <td>9.494803e+00</td>\n",
       "      <td>2.884152e+03</td>\n",
       "      <td>3.150212e-01</td>\n",
       "      <td>5.431047e-01</td>\n",
       "      <td>7.494084e+03</td>\n",
       "      <td>1.529536e+05</td>\n",
       "      <td>4.988538e-03</td>\n",
       "      <td>7.011439e-01</td>\n",
       "    </tr>\n",
       "    <tr>\n",
       "      <th>std</th>\n",
       "      <td>1.028242e+05</td>\n",
       "      <td>2.663609e+01</td>\n",
       "      <td>1.915130e+01</td>\n",
       "      <td>2.561600e+04</td>\n",
       "      <td>3.223602e+04</td>\n",
       "      <td>1.957034e+01</td>\n",
       "      <td>3.195403e+04</td>\n",
       "      <td>1.062747e+05</td>\n",
       "      <td>1.062813e+05</td>\n",
       "      <td>1.066137e+05</td>\n",
       "      <td>7.567489e+03</td>\n",
       "      <td>5.377020e+03</td>\n",
       "      <td>9.805148e+01</td>\n",
       "      <td>1.837600e+04</td>\n",
       "      <td>1.002900e+00</td>\n",
       "      <td>2.877887e+00</td>\n",
       "      <td>3.396743e+04</td>\n",
       "      <td>1.637092e+05</td>\n",
       "      <td>7.578575e-02</td>\n",
       "      <td>3.171833e+00</td>\n",
       "    </tr>\n",
       "    <tr>\n",
       "      <th>min</th>\n",
       "      <td>-4.233058e+05</td>\n",
       "      <td>-9.600000e+01</td>\n",
       "      <td>0.000000e+00</td>\n",
       "      <td>-6.827310e+03</td>\n",
       "      <td>0.000000e+00</td>\n",
       "      <td>0.000000e+00</td>\n",
       "      <td>0.000000e+00</td>\n",
       "      <td>-4.202502e+05</td>\n",
       "      <td>-4.202502e+05</td>\n",
       "      <td>-4.202502e+05</td>\n",
       "      <td>0.000000e+00</td>\n",
       "      <td>0.000000e+00</td>\n",
       "      <td>0.000000e+00</td>\n",
       "      <td>0.000000e+00</td>\n",
       "      <td>0.000000e+00</td>\n",
       "      <td>0.000000e+00</td>\n",
       "      <td>-6.211620e+03</td>\n",
       "      <td>0.000000e+00</td>\n",
       "      <td>0.000000e+00</td>\n",
       "      <td>0.000000e+00</td>\n",
       "    </tr>\n",
       "    <tr>\n",
       "      <th>25%</th>\n",
       "      <td>0.000000e+00</td>\n",
       "      <td>-5.600000e+01</td>\n",
       "      <td>5.000000e+00</td>\n",
       "      <td>0.000000e+00</td>\n",
       "      <td>2.481300e+02</td>\n",
       "      <td>0.000000e+00</td>\n",
       "      <td>0.000000e+00</td>\n",
       "      <td>0.000000e+00</td>\n",
       "      <td>0.000000e+00</td>\n",
       "      <td>0.000000e+00</td>\n",
       "      <td>0.000000e+00</td>\n",
       "      <td>0.000000e+00</td>\n",
       "      <td>0.000000e+00</td>\n",
       "      <td>0.000000e+00</td>\n",
       "      <td>0.000000e+00</td>\n",
       "      <td>0.000000e+00</td>\n",
       "      <td>0.000000e+00</td>\n",
       "      <td>4.500000e+04</td>\n",
       "      <td>0.000000e+00</td>\n",
       "      <td>0.000000e+00</td>\n",
       "    </tr>\n",
       "    <tr>\n",
       "      <th>50%</th>\n",
       "      <td>0.000000e+00</td>\n",
       "      <td>-2.800000e+01</td>\n",
       "      <td>1.800000e+01</td>\n",
       "      <td>0.000000e+00</td>\n",
       "      <td>5.850000e+03</td>\n",
       "      <td>0.000000e+00</td>\n",
       "      <td>0.000000e+00</td>\n",
       "      <td>0.000000e+00</td>\n",
       "      <td>0.000000e+00</td>\n",
       "      <td>0.000000e+00</td>\n",
       "      <td>0.000000e+00</td>\n",
       "      <td>6.750000e+01</td>\n",
       "      <td>0.000000e+00</td>\n",
       "      <td>0.000000e+00</td>\n",
       "      <td>0.000000e+00</td>\n",
       "      <td>0.000000e+00</td>\n",
       "      <td>0.000000e+00</td>\n",
       "      <td>1.125000e+05</td>\n",
       "      <td>0.000000e+00</td>\n",
       "      <td>0.000000e+00</td>\n",
       "    </tr>\n",
       "    <tr>\n",
       "      <th>75%</th>\n",
       "      <td>8.664215e+04</td>\n",
       "      <td>-1.100000e+01</td>\n",
       "      <td>3.100000e+01</td>\n",
       "      <td>6.024272e+03</td>\n",
       "      <td>1.023861e+04</td>\n",
       "      <td>0.000000e+00</td>\n",
       "      <td>6.750000e+03</td>\n",
       "      <td>9.020840e+04</td>\n",
       "      <td>9.022635e+04</td>\n",
       "      <td>9.040554e+04</td>\n",
       "      <td>0.000000e+00</td>\n",
       "      <td>5.625000e+03</td>\n",
       "      <td>0.000000e+00</td>\n",
       "      <td>1.378800e+03</td>\n",
       "      <td>3.150212e-01</td>\n",
       "      <td>5.431047e-01</td>\n",
       "      <td>0.000000e+00</td>\n",
       "      <td>1.800000e+05</td>\n",
       "      <td>0.000000e+00</td>\n",
       "      <td>0.000000e+00</td>\n",
       "    </tr>\n",
       "    <tr>\n",
       "      <th>max</th>\n",
       "      <td>1.354829e+06</td>\n",
       "      <td>-1.000000e+00</td>\n",
       "      <td>1.200000e+02</td>\n",
       "      <td>2.115000e+06</td>\n",
       "      <td>4.289207e+06</td>\n",
       "      <td>2.800000e+03</td>\n",
       "      <td>4.278316e+06</td>\n",
       "      <td>1.354829e+06</td>\n",
       "      <td>1.354829e+06</td>\n",
       "      <td>1.354829e+06</td>\n",
       "      <td>1.529847e+06</td>\n",
       "      <td>2.028820e+05</td>\n",
       "      <td>2.831000e+03</td>\n",
       "      <td>2.060030e+06</td>\n",
       "      <td>5.100000e+01</td>\n",
       "      <td>1.650000e+02</td>\n",
       "      <td>2.115000e+06</td>\n",
       "      <td>1.350000e+06</td>\n",
       "      <td>1.200000e+01</td>\n",
       "      <td>1.650000e+02</td>\n",
       "    </tr>\n",
       "  </tbody>\n",
       "</table>\n",
       "</div>"
      ],
      "text/plain": [
       "       AMT_RECEIVABLE_PRINCIPAL  MONTHS_BALANCE  CNT_INSTALMENT_MATURE_CUM  AMT_DRAWINGS_ATM_CURRENT  AMT_PAYMENT_CURRENT    SK_DPD_DEF  AMT_PAYMENT_TOTAL_CURRENT  AMT_RECIVABLE  AMT_TOTAL_RECEIVABLE   AMT_BALANCE  AMT_DRAWINGS_OTHER_CURRENT  AMT_INST_MIN_REGULARITY        SK_DPD  AMT_DRAWINGS_POS_CURRENT  CNT_DRAWINGS_ATM_CURRENT  CNT_DRAWINGS_POS_CURRENT  AMT_DRAWINGS_CURRENT  AMT_CREDIT_LIMIT_ACTUAL  CNT_DRAWINGS_OTHER_CURRENT  CNT_DRAWINGS_CURRENT\n",
       "count              3.227965e+06    3.227965e+06               3.227965e+06              3.227965e+06         3.227965e+06  3.227965e+06               3.227965e+06   3.227965e+06          3.227965e+06  3.227965e+06                3.227965e+06             3.227965e+06  3.227965e+06              3.227965e+06              3.227965e+06              3.227965e+06          3.227965e+06             3.227965e+06                3.227965e+06          3.227965e+06\n",
       "mean               5.670018e+04   -3.471544e+01               2.108883e+01              6.024272e+03         1.023861e+04  2.857060e-01               7.633469e+03   5.886264e+04          5.887259e+04  5.907332e+04                2.984882e+02             3.599681e+03  9.494803e+00              2.884152e+03              3.150212e-01              5.431047e-01          7.494084e+03             1.529536e+05                4.988538e-03          7.011439e-01\n",
       "std                1.028242e+05    2.663609e+01               1.915130e+01              2.561600e+04         3.223602e+04  1.957034e+01               3.195403e+04   1.062747e+05          1.062813e+05  1.066137e+05                7.567489e+03             5.377020e+03  9.805148e+01              1.837600e+04              1.002900e+00              2.877887e+00          3.396743e+04             1.637092e+05                7.578575e-02          3.171833e+00\n",
       "min               -4.233058e+05   -9.600000e+01               0.000000e+00             -6.827310e+03         0.000000e+00  0.000000e+00               0.000000e+00  -4.202502e+05         -4.202502e+05 -4.202502e+05                0.000000e+00             0.000000e+00  0.000000e+00              0.000000e+00              0.000000e+00              0.000000e+00         -6.211620e+03             0.000000e+00                0.000000e+00          0.000000e+00\n",
       "25%                0.000000e+00   -5.600000e+01               5.000000e+00              0.000000e+00         2.481300e+02  0.000000e+00               0.000000e+00   0.000000e+00          0.000000e+00  0.000000e+00                0.000000e+00             0.000000e+00  0.000000e+00              0.000000e+00              0.000000e+00              0.000000e+00          0.000000e+00             4.500000e+04                0.000000e+00          0.000000e+00\n",
       "50%                0.000000e+00   -2.800000e+01               1.800000e+01              0.000000e+00         5.850000e+03  0.000000e+00               0.000000e+00   0.000000e+00          0.000000e+00  0.000000e+00                0.000000e+00             6.750000e+01  0.000000e+00              0.000000e+00              0.000000e+00              0.000000e+00          0.000000e+00             1.125000e+05                0.000000e+00          0.000000e+00\n",
       "75%                8.664215e+04   -1.100000e+01               3.100000e+01              6.024272e+03         1.023861e+04  0.000000e+00               6.750000e+03   9.020840e+04          9.022635e+04  9.040554e+04                0.000000e+00             5.625000e+03  0.000000e+00              1.378800e+03              3.150212e-01              5.431047e-01          0.000000e+00             1.800000e+05                0.000000e+00          0.000000e+00\n",
       "max                1.354829e+06   -1.000000e+00               1.200000e+02              2.115000e+06         4.289207e+06  2.800000e+03               4.278316e+06   1.354829e+06          1.354829e+06  1.354829e+06                1.529847e+06             2.028820e+05  2.831000e+03              2.060030e+06              5.100000e+01              1.650000e+02          2.115000e+06             1.350000e+06                1.200000e+01          1.650000e+02"
      ]
     },
     "execution_count": 23,
     "metadata": {},
     "output_type": "execute_result"
    }
   ],
   "source": [
    "credit_card[continuous].describe()"
   ]
  },
  {
   "cell_type": "markdown",
   "metadata": {},
   "source": [
    "# category 변수에서 NaN값 mode으로 채우기"
   ]
  },
  {
   "cell_type": "code",
   "execution_count": 67,
   "metadata": {},
   "outputs": [
    {
     "data": {
      "text/plain": [
       "['NAME_CONTRACT_STATUS']"
      ]
     },
     "execution_count": 67,
     "metadata": {},
     "output_type": "execute_result"
    }
   ],
   "source": [
    "category = list(set(credit_card_multi) - set(removed_var))\n",
    "category"
   ]
  },
  {
   "cell_type": "code",
   "execution_count": 68,
   "metadata": {},
   "outputs": [],
   "source": [
    "for var in category:\n",
    "    credit_card[var] = credit_card[var].astype(\"str\")\n",
    "    credit_card[var] = credit_card[var].replace(\"nan\", credit_card[var].mode())"
   ]
  },
  {
   "cell_type": "markdown",
   "metadata": {},
   "source": [
    "왜 nan 값이 replace 안되는 거지..., fillna도 안되고"
   ]
  },
  {
   "cell_type": "code",
   "execution_count": 69,
   "metadata": {},
   "outputs": [
    {
     "data": {
      "text/html": [
       "<div>\n",
       "<style scoped>\n",
       "    .dataframe tbody tr th:only-of-type {\n",
       "        vertical-align: middle;\n",
       "    }\n",
       "\n",
       "    .dataframe tbody tr th {\n",
       "        vertical-align: top;\n",
       "    }\n",
       "\n",
       "    .dataframe thead th {\n",
       "        text-align: right;\n",
       "    }\n",
       "</style>\n",
       "<table border=\"1\" class=\"dataframe\">\n",
       "  <thead>\n",
       "    <tr style=\"text-align: right;\">\n",
       "      <th></th>\n",
       "      <th>NAME_CONTRACT_STATUS</th>\n",
       "    </tr>\n",
       "  </thead>\n",
       "  <tbody>\n",
       "    <tr>\n",
       "      <th>count</th>\n",
       "      <td>3227965</td>\n",
       "    </tr>\n",
       "    <tr>\n",
       "      <th>unique</th>\n",
       "      <td>7</td>\n",
       "    </tr>\n",
       "    <tr>\n",
       "      <th>top</th>\n",
       "      <td>Active</td>\n",
       "    </tr>\n",
       "    <tr>\n",
       "      <th>freq</th>\n",
       "      <td>3116673</td>\n",
       "    </tr>\n",
       "  </tbody>\n",
       "</table>\n",
       "</div>"
      ],
      "text/plain": [
       "       NAME_CONTRACT_STATUS\n",
       "count               3227965\n",
       "unique                    7\n",
       "top                  Active\n",
       "freq                3116673"
      ]
     },
     "execution_count": 69,
     "metadata": {},
     "output_type": "execute_result"
    }
   ],
   "source": [
    "credit_card_train[category].describe(include=[\"object\", \"category\"])"
   ]
  },
  {
   "cell_type": "code",
   "execution_count": 59,
   "metadata": {},
   "outputs": [
    {
     "data": {
      "text/html": [
       "<div>\n",
       "<style scoped>\n",
       "    .dataframe tbody tr th:only-of-type {\n",
       "        vertical-align: middle;\n",
       "    }\n",
       "\n",
       "    .dataframe tbody tr th {\n",
       "        vertical-align: top;\n",
       "    }\n",
       "\n",
       "    .dataframe thead th {\n",
       "        text-align: right;\n",
       "    }\n",
       "</style>\n",
       "<table border=\"1\" class=\"dataframe\">\n",
       "  <thead>\n",
       "    <tr style=\"text-align: right;\">\n",
       "      <th></th>\n",
       "      <th>NAME_CONTRACT_STATUS</th>\n",
       "    </tr>\n",
       "  </thead>\n",
       "  <tbody>\n",
       "    <tr>\n",
       "      <th>count</th>\n",
       "      <td>3227965</td>\n",
       "    </tr>\n",
       "    <tr>\n",
       "      <th>unique</th>\n",
       "      <td>7</td>\n",
       "    </tr>\n",
       "    <tr>\n",
       "      <th>top</th>\n",
       "      <td>Active</td>\n",
       "    </tr>\n",
       "    <tr>\n",
       "      <th>freq</th>\n",
       "      <td>3116673</td>\n",
       "    </tr>\n",
       "  </tbody>\n",
       "</table>\n",
       "</div>"
      ],
      "text/plain": [
       "       NAME_CONTRACT_STATUS\n",
       "count               3227965\n",
       "unique                    7\n",
       "top                  Active\n",
       "freq                3116673"
      ]
     },
     "execution_count": 59,
     "metadata": {},
     "output_type": "execute_result"
    }
   ],
   "source": [
    "credit_card[category].describe(include=[\"object\", \"category\"])"
   ]
  },
  {
   "cell_type": "code",
   "execution_count": 26,
   "metadata": {},
   "outputs": [],
   "source": [
    "#credit_card.CNT_DRAWINGS_ATM_CURRENT.replace(\"nan\", \"0.0\",inplace=True)\n",
    "#credit_card.CNT_DRAWINGS_POS_CURRENT.replace(\"nan\", \"0.0\",inplace=True)\n",
    "#credit_card.CNT_DRAWINGS_OTHER_CURRENT.replace(\"nan\", \"0.0\",inplace=True)\n",
    "#credit_card.CNT_INSTALMENT_MATURE_CUM.replace(\"nan\", \"0.0\",inplace=True)\n",
    "#credit_card.CNT_DRAWINGS_CURRENT.replace(\"nan\", \"0.0\",inplace=True)"
   ]
  },
  {
   "cell_type": "code",
   "execution_count": 70,
   "metadata": {},
   "outputs": [
    {
     "name": "stdout",
     "output_type": "stream",
     "text": [
      "NAME_CONTRACT_STATUS ['Active' 'Completed' 'Signed' 'Demand' 'Sent proposal' 'Refused'\n",
      " 'Approved']\n"
     ]
    }
   ],
   "source": [
    "for var in category:\n",
    "    print(var, credit_card[var].unique())"
   ]
  },
  {
   "cell_type": "markdown",
   "metadata": {},
   "source": [
    "---"
   ]
  },
  {
   "cell_type": "code",
   "execution_count": 71,
   "metadata": {},
   "outputs": [
    {
     "name": "stdout",
     "output_type": "stream",
     "text": [
      "<class 'pandas.core.frame.DataFrame'>\n",
      "Int64Index: 3227965 entries, 1 to 3840311\n",
      "Data columns (total 23 columns):\n",
      "SK_ID_PREV                    int64\n",
      "SK_ID_CURR                    int64\n",
      "MONTHS_BALANCE                float64\n",
      "AMT_BALANCE                   float64\n",
      "AMT_CREDIT_LIMIT_ACTUAL       float64\n",
      "AMT_DRAWINGS_ATM_CURRENT      float64\n",
      "AMT_DRAWINGS_CURRENT          float64\n",
      "AMT_DRAWINGS_OTHER_CURRENT    float64\n",
      "AMT_DRAWINGS_POS_CURRENT      float64\n",
      "AMT_INST_MIN_REGULARITY       float64\n",
      "AMT_PAYMENT_CURRENT           float64\n",
      "AMT_PAYMENT_TOTAL_CURRENT     float64\n",
      "AMT_RECEIVABLE_PRINCIPAL      float64\n",
      "AMT_RECIVABLE                 float64\n",
      "AMT_TOTAL_RECEIVABLE          float64\n",
      "CNT_DRAWINGS_ATM_CURRENT      float64\n",
      "CNT_DRAWINGS_CURRENT          float64\n",
      "CNT_DRAWINGS_OTHER_CURRENT    float64\n",
      "CNT_DRAWINGS_POS_CURRENT      float64\n",
      "CNT_INSTALMENT_MATURE_CUM     float64\n",
      "NAME_CONTRACT_STATUS          object\n",
      "SK_DPD                        float64\n",
      "SK_DPD_DEF                    float64\n",
      "dtypes: float64(20), int64(2), object(1)\n",
      "memory usage: 671.1+ MB\n"
     ]
    }
   ],
   "source": [
    "credit_card.info()"
   ]
  },
  {
   "cell_type": "code",
   "execution_count": 72,
   "metadata": {},
   "outputs": [],
   "source": [
    "credit_card_fi = pd.get_dummies(credit_card)"
   ]
  },
  {
   "cell_type": "code",
   "execution_count": 79,
   "metadata": {},
   "outputs": [],
   "source": [
    "var = list(set(credit_card_fi.columns) - set(continuous) - set([\"SK_ID_CURR\"]) - set([\"SK_ID_PREV\"]))"
   ]
  },
  {
   "cell_type": "code",
   "execution_count": 80,
   "metadata": {},
   "outputs": [
    {
     "data": {
      "text/plain": [
       "['NAME_CONTRACT_STATUS_Demand',\n",
       " 'NAME_CONTRACT_STATUS_Signed',\n",
       " 'NAME_CONTRACT_STATUS_Refused',\n",
       " 'NAME_CONTRACT_STATUS_Approved',\n",
       " 'NAME_CONTRACT_STATUS_Sent proposal',\n",
       " 'NAME_CONTRACT_STATUS_Completed',\n",
       " 'NAME_CONTRACT_STATUS_Active']"
      ]
     },
     "execution_count": 80,
     "metadata": {},
     "output_type": "execute_result"
    }
   ],
   "source": [
    "var"
   ]
  },
  {
   "cell_type": "code",
   "execution_count": 84,
   "metadata": {},
   "outputs": [],
   "source": [
    "dataset = credit_card_fi.groupby(\"SK_ID_CURR\")[var].sum()"
   ]
  },
  {
   "cell_type": "code",
   "execution_count": 85,
   "metadata": {},
   "outputs": [],
   "source": [
    "dataset[continuous] = credit_card_fi.groupby(\"SK_ID_CURR\")[continuous].mean()"
   ]
  },
  {
   "cell_type": "code",
   "execution_count": 87,
   "metadata": {},
   "outputs": [],
   "source": [
    "dataset.reset_index(inplace=True)"
   ]
  },
  {
   "cell_type": "code",
   "execution_count": 88,
   "metadata": {},
   "outputs": [
    {
     "data": {
      "text/html": [
       "<div>\n",
       "<style scoped>\n",
       "    .dataframe tbody tr th:only-of-type {\n",
       "        vertical-align: middle;\n",
       "    }\n",
       "\n",
       "    .dataframe tbody tr th {\n",
       "        vertical-align: top;\n",
       "    }\n",
       "\n",
       "    .dataframe thead th {\n",
       "        text-align: right;\n",
       "    }\n",
       "</style>\n",
       "<table border=\"1\" class=\"dataframe\">\n",
       "  <thead>\n",
       "    <tr style=\"text-align: right;\">\n",
       "      <th></th>\n",
       "      <th>SK_ID_CURR</th>\n",
       "      <th>NAME_CONTRACT_STATUS_Demand</th>\n",
       "      <th>NAME_CONTRACT_STATUS_Signed</th>\n",
       "      <th>NAME_CONTRACT_STATUS_Refused</th>\n",
       "      <th>NAME_CONTRACT_STATUS_Approved</th>\n",
       "      <th>NAME_CONTRACT_STATUS_Sent proposal</th>\n",
       "      <th>NAME_CONTRACT_STATUS_Completed</th>\n",
       "      <th>NAME_CONTRACT_STATUS_Active</th>\n",
       "      <th>AMT_RECEIVABLE_PRINCIPAL</th>\n",
       "      <th>MONTHS_BALANCE</th>\n",
       "      <th>CNT_INSTALMENT_MATURE_CUM</th>\n",
       "      <th>AMT_DRAWINGS_ATM_CURRENT</th>\n",
       "      <th>AMT_PAYMENT_CURRENT</th>\n",
       "      <th>SK_DPD_DEF</th>\n",
       "      <th>AMT_PAYMENT_TOTAL_CURRENT</th>\n",
       "      <th>AMT_RECIVABLE</th>\n",
       "      <th>AMT_TOTAL_RECEIVABLE</th>\n",
       "      <th>AMT_BALANCE</th>\n",
       "      <th>AMT_DRAWINGS_OTHER_CURRENT</th>\n",
       "      <th>AMT_INST_MIN_REGULARITY</th>\n",
       "      <th>SK_DPD</th>\n",
       "      <th>AMT_DRAWINGS_POS_CURRENT</th>\n",
       "      <th>CNT_DRAWINGS_ATM_CURRENT</th>\n",
       "      <th>CNT_DRAWINGS_POS_CURRENT</th>\n",
       "      <th>AMT_DRAWINGS_CURRENT</th>\n",
       "      <th>AMT_CREDIT_LIMIT_ACTUAL</th>\n",
       "      <th>CNT_DRAWINGS_OTHER_CURRENT</th>\n",
       "      <th>CNT_DRAWINGS_CURRENT</th>\n",
       "    </tr>\n",
       "  </thead>\n",
       "  <tbody>\n",
       "    <tr>\n",
       "      <th>86900</th>\n",
       "      <td>456242</td>\n",
       "      <td>0</td>\n",
       "      <td>0</td>\n",
       "      <td>0</td>\n",
       "      <td>0</td>\n",
       "      <td>0</td>\n",
       "      <td>0</td>\n",
       "      <td>8</td>\n",
       "      <td>144650.565000</td>\n",
       "      <td>-4.5</td>\n",
       "      <td>3.500000</td>\n",
       "      <td>23062.500000</td>\n",
       "      <td>20859.984750</td>\n",
       "      <td>0.000000</td>\n",
       "      <td>19580.158125</td>\n",
       "      <td>147757.578750</td>\n",
       "      <td>147757.578750</td>\n",
       "      <td>148232.328750</td>\n",
       "      <td>0.000</td>\n",
       "      <td>6980.152500</td>\n",
       "      <td>0.000000</td>\n",
       "      <td>16787.283750</td>\n",
       "      <td>1.000000</td>\n",
       "      <td>2.875000</td>\n",
       "      <td>39849.783750</td>\n",
       "      <td>202500.000000</td>\n",
       "      <td>0.000</td>\n",
       "      <td>3.875000</td>\n",
       "    </tr>\n",
       "    <tr>\n",
       "      <th>86901</th>\n",
       "      <td>456244</td>\n",
       "      <td>0</td>\n",
       "      <td>0</td>\n",
       "      <td>0</td>\n",
       "      <td>0</td>\n",
       "      <td>0</td>\n",
       "      <td>5</td>\n",
       "      <td>36</td>\n",
       "      <td>127608.373537</td>\n",
       "      <td>-21.0</td>\n",
       "      <td>13.782659</td>\n",
       "      <td>24475.609756</td>\n",
       "      <td>32720.544878</td>\n",
       "      <td>0.000000</td>\n",
       "      <td>32720.544878</td>\n",
       "      <td>130767.060732</td>\n",
       "      <td>130767.060732</td>\n",
       "      <td>131834.730732</td>\n",
       "      <td>0.000</td>\n",
       "      <td>6443.114171</td>\n",
       "      <td>0.000000</td>\n",
       "      <td>2363.015854</td>\n",
       "      <td>1.048780</td>\n",
       "      <td>0.317073</td>\n",
       "      <td>26842.388049</td>\n",
       "      <td>296341.463415</td>\n",
       "      <td>0.000</td>\n",
       "      <td>1.365854</td>\n",
       "    </tr>\n",
       "    <tr>\n",
       "      <th>86902</th>\n",
       "      <td>456246</td>\n",
       "      <td>0</td>\n",
       "      <td>0</td>\n",
       "      <td>0</td>\n",
       "      <td>0</td>\n",
       "      <td>0</td>\n",
       "      <td>0</td>\n",
       "      <td>8</td>\n",
       "      <td>12883.016250</td>\n",
       "      <td>-5.5</td>\n",
       "      <td>3.500000</td>\n",
       "      <td>0.000000</td>\n",
       "      <td>17710.817250</td>\n",
       "      <td>0.000000</td>\n",
       "      <td>15554.340000</td>\n",
       "      <td>12897.894375</td>\n",
       "      <td>12897.894375</td>\n",
       "      <td>13136.731875</td>\n",
       "      <td>0.000</td>\n",
       "      <td>1439.150625</td>\n",
       "      <td>0.000000</td>\n",
       "      <td>15199.256250</td>\n",
       "      <td>0.000000</td>\n",
       "      <td>2.500000</td>\n",
       "      <td>15199.256250</td>\n",
       "      <td>135000.000000</td>\n",
       "      <td>0.000</td>\n",
       "      <td>2.500000</td>\n",
       "    </tr>\n",
       "    <tr>\n",
       "      <th>86903</th>\n",
       "      <td>456247</td>\n",
       "      <td>0</td>\n",
       "      <td>0</td>\n",
       "      <td>0</td>\n",
       "      <td>0</td>\n",
       "      <td>0</td>\n",
       "      <td>0</td>\n",
       "      <td>95</td>\n",
       "      <td>22100.653895</td>\n",
       "      <td>-49.0</td>\n",
       "      <td>26.494737</td>\n",
       "      <td>2136.315789</td>\n",
       "      <td>4883.755263</td>\n",
       "      <td>0.021053</td>\n",
       "      <td>4115.878105</td>\n",
       "      <td>23128.243105</td>\n",
       "      <td>23128.243105</td>\n",
       "      <td>23216.396211</td>\n",
       "      <td>0.000</td>\n",
       "      <td>1414.704789</td>\n",
       "      <td>0.031579</td>\n",
       "      <td>13.190684</td>\n",
       "      <td>0.115789</td>\n",
       "      <td>0.031579</td>\n",
       "      <td>2149.506474</td>\n",
       "      <td>144000.000000</td>\n",
       "      <td>0.000</td>\n",
       "      <td>0.147368</td>\n",
       "    </tr>\n",
       "    <tr>\n",
       "      <th>86904</th>\n",
       "      <td>456248</td>\n",
       "      <td>0</td>\n",
       "      <td>0</td>\n",
       "      <td>0</td>\n",
       "      <td>0</td>\n",
       "      <td>0</td>\n",
       "      <td>0</td>\n",
       "      <td>23</td>\n",
       "      <td>0.000000</td>\n",
       "      <td>-13.0</td>\n",
       "      <td>0.000000</td>\n",
       "      <td>6024.272000</td>\n",
       "      <td>10238.613000</td>\n",
       "      <td>0.000000</td>\n",
       "      <td>0.000000</td>\n",
       "      <td>0.000000</td>\n",
       "      <td>0.000000</td>\n",
       "      <td>0.000000</td>\n",
       "      <td>298.488</td>\n",
       "      <td>0.000000</td>\n",
       "      <td>0.000000</td>\n",
       "      <td>2884.152000</td>\n",
       "      <td>0.315000</td>\n",
       "      <td>0.543000</td>\n",
       "      <td>0.000000</td>\n",
       "      <td>900000.000000</td>\n",
       "      <td>0.005</td>\n",
       "      <td>0.000000</td>\n",
       "    </tr>\n",
       "  </tbody>\n",
       "</table>\n",
       "</div>"
      ],
      "text/plain": [
       "       SK_ID_CURR  NAME_CONTRACT_STATUS_Demand  NAME_CONTRACT_STATUS_Signed  NAME_CONTRACT_STATUS_Refused  NAME_CONTRACT_STATUS_Approved  NAME_CONTRACT_STATUS_Sent proposal  NAME_CONTRACT_STATUS_Completed  NAME_CONTRACT_STATUS_Active  AMT_RECEIVABLE_PRINCIPAL  MONTHS_BALANCE  CNT_INSTALMENT_MATURE_CUM  AMT_DRAWINGS_ATM_CURRENT  AMT_PAYMENT_CURRENT  SK_DPD_DEF  AMT_PAYMENT_TOTAL_CURRENT  AMT_RECIVABLE  AMT_TOTAL_RECEIVABLE    AMT_BALANCE  AMT_DRAWINGS_OTHER_CURRENT  AMT_INST_MIN_REGULARITY    SK_DPD  AMT_DRAWINGS_POS_CURRENT  CNT_DRAWINGS_ATM_CURRENT  CNT_DRAWINGS_POS_CURRENT  AMT_DRAWINGS_CURRENT  AMT_CREDIT_LIMIT_ACTUAL  CNT_DRAWINGS_OTHER_CURRENT  CNT_DRAWINGS_CURRENT\n",
       "86900      456242                            0                            0                             0                              0                                   0                               0                            8             144650.565000            -4.5                   3.500000              23062.500000         20859.984750    0.000000               19580.158125  147757.578750         147757.578750  148232.328750                       0.000              6980.152500  0.000000              16787.283750                  1.000000                  2.875000          39849.783750            202500.000000                       0.000              3.875000\n",
       "86901      456244                            0                            0                             0                              0                                   0                               5                           36             127608.373537           -21.0                  13.782659              24475.609756         32720.544878    0.000000               32720.544878  130767.060732         130767.060732  131834.730732                       0.000              6443.114171  0.000000               2363.015854                  1.048780                  0.317073          26842.388049            296341.463415                       0.000              1.365854\n",
       "86902      456246                            0                            0                             0                              0                                   0                               0                            8              12883.016250            -5.5                   3.500000                  0.000000         17710.817250    0.000000               15554.340000   12897.894375          12897.894375   13136.731875                       0.000              1439.150625  0.000000              15199.256250                  0.000000                  2.500000          15199.256250            135000.000000                       0.000              2.500000\n",
       "86903      456247                            0                            0                             0                              0                                   0                               0                           95              22100.653895           -49.0                  26.494737               2136.315789          4883.755263    0.021053                4115.878105   23128.243105          23128.243105   23216.396211                       0.000              1414.704789  0.031579                 13.190684                  0.115789                  0.031579           2149.506474            144000.000000                       0.000              0.147368\n",
       "86904      456248                            0                            0                             0                              0                                   0                               0                           23                  0.000000           -13.0                   0.000000               6024.272000         10238.613000    0.000000                   0.000000       0.000000              0.000000       0.000000                     298.488                 0.000000  0.000000               2884.152000                  0.315000                  0.543000              0.000000            900000.000000                       0.005              0.000000"
      ]
     },
     "execution_count": 88,
     "metadata": {},
     "output_type": "execute_result"
    }
   ],
   "source": [
    "dataset.tail()"
   ]
  },
  {
   "cell_type": "code",
   "execution_count": 89,
   "metadata": {},
   "outputs": [
    {
     "data": {
      "text/plain": [
       "(86905, 28)"
      ]
     },
     "execution_count": 89,
     "metadata": {},
     "output_type": "execute_result"
    }
   ],
   "source": [
    "len(dataset), len(dataset.columns)"
   ]
  },
  {
   "cell_type": "code",
   "execution_count": 90,
   "metadata": {},
   "outputs": [],
   "source": [
    "dataset.to_csv(\"credit_card_dataset.csv\", index=False)"
   ]
  },
  {
   "cell_type": "markdown",
   "metadata": {},
   "source": [
    "---"
   ]
  },
  {
   "cell_type": "markdown",
   "metadata": {},
   "source": [
    "# 끝"
   ]
  },
  {
   "cell_type": "markdown",
   "metadata": {},
   "source": [
    "---"
   ]
  },
  {
   "cell_type": "code",
   "execution_count": null,
   "metadata": {},
   "outputs": [],
   "source": []
  }
 ],
 "metadata": {
  "kernelspec": {
   "display_name": "Python 3",
   "language": "python",
   "name": "python3"
  },
  "language_info": {
   "codemirror_mode": {
    "name": "ipython",
    "version": 3
   },
   "file_extension": ".py",
   "mimetype": "text/x-python",
   "name": "python",
   "nbconvert_exporter": "python",
   "pygments_lexer": "ipython3",
   "version": "3.6.4"
  }
 },
 "nbformat": 4,
 "nbformat_minor": 2
}
