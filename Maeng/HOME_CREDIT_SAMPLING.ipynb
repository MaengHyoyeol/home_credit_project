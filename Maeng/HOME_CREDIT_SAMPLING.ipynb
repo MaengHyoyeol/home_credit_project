{
 "cells": [
  {
   "cell_type": "markdown",
   "metadata": {},
   "source": [
    "### Train_set / Test_set 나누기\n",
    " - 전체 데이타를 random으로 나눌경우 target 0 / target 1의 비율이 10 : 1이 넘는 dataset에서\n",
    "  샘플링 데이터의 0 /1 비율이 달라진다 (약 1%정도?)\n",
    "\n",
    " - 데이터를 target0 / target1로 나누어 샘플링 : 비율 유지!!"
   ]
  },
  {
   "cell_type": "code",
   "execution_count": 25,
   "metadata": {},
   "outputs": [],
   "source": [
    "import dask.dataframe as dd"
   ]
  },
  {
   "cell_type": "code",
   "execution_count": 1,
   "metadata": {},
   "outputs": [],
   "source": [
    "application_train = pd.read_csv(\"./data/application_train.csv\")"
   ]
  },
  {
   "cell_type": "code",
   "execution_count": 26,
   "metadata": {},
   "outputs": [],
   "source": [
    "\n",
    "#application_train = dd.read_csv(\"./data/application_train.csv\")\n",
    "bureau = dd.read_csv(\"./data/bureau.csv\")\n",
    "bureau_balance = dd.read_csv(\"./data/bureau_balance.csv\")\n",
    "credit_card_balance = dd.read_csv(\"./data/credit_card_balance.csv\")\n",
    "installments_payments = dd.read_csv(\"./data/installments_payments.csv\")\n",
    "previous_application = dd.read_csv(\"./data/previous_application.csv\")\n",
    "POS_CASH_balance = dd.read_csv(\"./data/POS_CASH_balance.csv\")"
   ]
  },
  {
   "cell_type": "code",
   "execution_count": 2,
   "metadata": {},
   "outputs": [],
   "source": [
    "target0 = application_train[application_train.TARGET == 0]\n",
    "target1 = application_train[application_train.TARGET == 1]"
   ]
  },
  {
   "cell_type": "code",
   "execution_count": 19,
   "metadata": {},
   "outputs": [],
   "source": [
    "from sklearn.model_selection import train_test_split\n",
    "\n",
    "target0_train, target0_test  = train_test_split(target0, test_size=0.4, random_state = 811)\n",
    "target1_train, target1_test  = train_test_split(target1, test_size=0.4, random_state = 811)\n"
   ]
  },
  {
   "cell_type": "code",
   "execution_count": 20,
   "metadata": {},
   "outputs": [
    {
     "name": "stderr",
     "output_type": "stream",
     "text": [
      "C:\\ProgramData\\Anaconda3\\lib\\site-packages\\ipykernel_launcher.py:1: SettingWithCopyWarning: \n",
      "A value is trying to be set on a copy of a slice from a DataFrame\n",
      "\n",
      "See the caveats in the documentation: http://pandas.pydata.org/pandas-docs/stable/indexing.html#indexing-view-versus-copy\n",
      "  \"\"\"Entry point for launching an IPython kernel.\n",
      "C:\\ProgramData\\Anaconda3\\lib\\site-packages\\ipykernel_launcher.py:2: SettingWithCopyWarning: \n",
      "A value is trying to be set on a copy of a slice from a DataFrame\n",
      "\n",
      "See the caveats in the documentation: http://pandas.pydata.org/pandas-docs/stable/indexing.html#indexing-view-versus-copy\n",
      "  \n",
      "C:\\ProgramData\\Anaconda3\\lib\\site-packages\\ipykernel_launcher.py:3: SettingWithCopyWarning: \n",
      "A value is trying to be set on a copy of a slice from a DataFrame\n",
      "\n",
      "See the caveats in the documentation: http://pandas.pydata.org/pandas-docs/stable/indexing.html#indexing-view-versus-copy\n",
      "  This is separate from the ipykernel package so we can avoid doing imports until\n",
      "C:\\ProgramData\\Anaconda3\\lib\\site-packages\\ipykernel_launcher.py:4: SettingWithCopyWarning: \n",
      "A value is trying to be set on a copy of a slice from a DataFrame\n",
      "\n",
      "See the caveats in the documentation: http://pandas.pydata.org/pandas-docs/stable/indexing.html#indexing-view-versus-copy\n",
      "  after removing the cwd from sys.path.\n"
     ]
    }
   ],
   "source": [
    "target0_train.sort_index(inplace = True)\n",
    "target0_test.sort_index(inplace = True)\n",
    "target1_train.sort_index(inplace = True)\n",
    "target1_test.sort_index(inplace = True)"
   ]
  },
  {
   "cell_type": "code",
   "execution_count": 22,
   "metadata": {},
   "outputs": [
    {
     "name": "stdout",
     "output_type": "stream",
     "text": [
      "원래 target1 비율      :  0.08072881945686496\n",
      "Test Set target1 비율  :  0.0807284256737531\n",
      "Train Set target1 비율 :  0.08072908198107379\n"
     ]
    }
   ],
   "source": [
    "print('원래 target1 비율      : ', len(target1)/len(application_train))\n",
    "print('Test Set target1 비율  : ', len(target1_test)/(len(target0_test) + len(target1_test)))\n",
    "print('Train Set target1 비율 : ', len(target1_train)/(len(target0_train) + len(target1_train)))"
   ]
  },
  {
   "cell_type": "code",
   "execution_count": 24,
   "metadata": {},
   "outputs": [],
   "source": [
    "application_trainset = pd.concat([target0_train, target1_train])\n",
    "application_testset = pd.concat([target0_test, target1_test])"
   ]
  },
  {
   "cell_type": "code",
   "execution_count": 32,
   "metadata": {},
   "outputs": [],
   "source": [
    "application_trainset.to_csv('application_trainset.csv')\n",
    "application_testset.to_csv('application_testset.csv')"
   ]
  },
  {
   "cell_type": "code",
   "execution_count": null,
   "metadata": {},
   "outputs": [],
   "source": []
  }
 ],
 "metadata": {
  "kernelspec": {
   "display_name": "Python 3",
   "language": "python",
   "name": "python3"
  },
  "language_info": {
   "codemirror_mode": {
    "name": "ipython",
    "version": 3
   },
   "file_extension": ".py",
   "mimetype": "text/x-python",
   "name": "python",
   "nbconvert_exporter": "python",
   "pygments_lexer": "ipython3",
   "version": "3.6.4"
  }
 },
 "nbformat": 4,
 "nbformat_minor": 2
}
