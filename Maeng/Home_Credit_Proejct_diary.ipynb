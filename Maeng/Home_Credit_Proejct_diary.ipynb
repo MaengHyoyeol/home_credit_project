{
 "cells": [
  {
   "cell_type": "markdown",
   "metadata": {},
   "source": [
    "### prev :2018-07-20\n",
    " - EDA Overview\n",
    " - Columns 별로 들여보기( 많이 부족)\n",
    " -  Train Set/ Test Set 나누기 7대 3 : SK_ID_CURR 기준 비율로 나눔"
   ]
  },
  {
   "cell_type": "markdown",
   "metadata": {},
   "source": [
    "### 2018-07-20\n",
    " - ISSUE : Memory error!! / merge에서 메모리 부족 ( DB, 병렬 처리 공부가 필요..)\n",
    "     - Two Track :  \n",
    "         - 1) DB 에서 Dataframe join 해보기\n",
    "         - 2) sampling 해서 모델링 해보기\n",
    "                    \n",
    "                    \n",
    " - Sampling :\n",
    "     20% 햇으나 메모리 오류..... 10% 재시도\n",
    "     ( test_set / sampling_set 비율을 반대로 햇다 멍청이..)"
   ]
  },
  {
   "cell_type": "markdown",
   "metadata": {},
   "source": [
    "### 2108- 7- 21\n",
    "\n",
    "    - 앙상블 / 부스팅 방법을 배움\n",
    "    - 우리 프로젝트에 응용 : feature가 다른 데이터 프레임을 굳이 outer join 으로 합칠 필요가 없음!!\n",
    "    - inner join을 통해서 정보가 많은 ID는 정보가 많은 대로/ 적은 애들은 적은 대로 분류를 해보자1\n",
    "        (정보가 적은 아이들의 예측 최적화에 대한 고민이 필요해 보인다.)"
   ]
  },
  {
   "cell_type": "code",
   "execution_count": null,
   "metadata": {},
   "outputs": [],
   "source": []
  }
 ],
 "metadata": {
  "kernelspec": {
   "display_name": "Python 3",
   "language": "python",
   "name": "python3"
  },
  "language_info": {
   "codemirror_mode": {
    "name": "ipython",
    "version": 3
   },
   "file_extension": ".py",
   "mimetype": "text/x-python",
   "name": "python",
   "nbconvert_exporter": "python",
   "pygments_lexer": "ipython3",
   "version": "3.6.4"
  }
 },
 "nbformat": 4,
 "nbformat_minor": 2
}
